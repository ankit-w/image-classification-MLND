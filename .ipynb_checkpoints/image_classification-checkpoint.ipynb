{
 "cells": [
  {
   "cell_type": "markdown",
   "metadata": {
    "colab_type": "text",
    "id": "Rvd0IB2Z2kK3"
   },
   "source": [
    "# Image Classification\n",
    "In this project, you'll classify images from the [CIFAR-10 dataset](https://www.cs.toronto.edu/~kriz/cifar.html).  The dataset consists of airplanes, dogs, cats, and other objects. You'll preprocess the images, then train a convolutional neural network on all the samples. The images need to be normalized and the labels need to be one-hot encoded.  You'll get to apply what you learned and build a convolutional, max pooling, dropout, and fully connected layers.  At the end, you'll get to see your neural network's predictions on the sample images.\n",
    "## Get the Data\n",
    "Run the following cell to download the [CIFAR-10 dataset for python](https://www.cs.toronto.edu/~kriz/cifar-10-python.tar.gz)."
   ]
  },
  {
   "cell_type": "code",
   "execution_count": 42,
   "metadata": {
    "colab": {
     "base_uri": "https://localhost:8080/",
     "height": 34
    },
    "colab_type": "code",
    "id": "EbTuYLmO2kK5",
    "outputId": "e26eafd1-7147-4fd1-cb2a-8737ee0bfd39"
   },
   "outputs": [
    {
     "name": "stdout",
     "output_type": "stream",
     "text": [
      "All files found!\n"
     ]
    }
   ],
   "source": [
    "\"\"\"\n",
    "DON'T MODIFY ANYTHING IN THIS CELL THAT IS BELOW THIS LINE\n",
    "\"\"\"\n",
    "from urllib.request import urlretrieve\n",
    "from os.path import isfile, isdir\n",
    "from tqdm import tqdm\n",
    "import problem_unittests as tests\n",
    "import tarfile\n",
    "\n",
    "cifar10_dataset_folder_path = 'cifar-10-batches-py'\n",
    "\n",
    "class DLProgress(tqdm):\n",
    "    last_block = 0\n",
    "\n",
    "    def hook(self, block_num=1, block_size=1, total_size=None):\n",
    "        self.total = total_size\n",
    "        self.update((block_num - self.last_block) * block_size)\n",
    "        self.last_block = block_num\n",
    "\n",
    "if not isfile('cifar-10-python.tar.gz'):\n",
    "    with DLProgress(unit='B', unit_scale=True, miniters=1, desc='CIFAR-10 Dataset') as pbar:\n",
    "        urlretrieve(\n",
    "            'https://www.cs.toronto.edu/~kriz/cifar-10-python.tar.gz',\n",
    "            'cifar-10-python.tar.gz',\n",
    "            pbar.hook)\n",
    "\n",
    "if not isdir(cifar10_dataset_folder_path):\n",
    "    with tarfile.open('cifar-10-python.tar.gz') as tar:\n",
    "        tar.extractall()\n",
    "        tar.close()\n",
    "\n",
    "\n",
    "tests.test_folder_path(cifar10_dataset_folder_path)"
   ]
  },
  {
   "cell_type": "markdown",
   "metadata": {
    "colab_type": "text",
    "id": "u3u9yGBg2kLA"
   },
   "source": [
    "## Explore the Data\n",
    "The dataset is broken into batches to prevent your machine from running out of memory.  The CIFAR-10 dataset consists of 5 batches, named `data_batch_1`, `data_batch_2`, etc.. Each batch contains the labels and images that are one of the following:\n",
    "* airplane\n",
    "* automobile\n",
    "* bird\n",
    "* cat\n",
    "* deer\n",
    "* dog\n",
    "* frog\n",
    "* horse\n",
    "* ship\n",
    "* truck\n",
    "\n",
    "Understanding a dataset is part of making predictions on the data.  Play around with the code cell below by changing the `batch_id` and `sample_id`. The `batch_id` is the id for a batch (1-5). The `sample_id` is the id for a image and label pair in the batch.\n",
    "\n",
    "Ask yourself \"What are all possible labels?\", \"What is the range of values for the image data?\", \"Are the labels in order or random?\".  Answers to questions like these will help you preprocess the data and end up with better predictions."
   ]
  },
  {
   "cell_type": "code",
   "execution_count": 43,
   "metadata": {
    "colab": {
     "base_uri": "https://localhost:8080/",
     "height": 437
    },
    "colab_type": "code",
    "id": "QLopAY1e2kLB",
    "outputId": "419d50e0-f635-4368-fd73-fd9e92341e97"
   },
   "outputs": [
    {
     "name": "stdout",
     "output_type": "stream",
     "text": [
      "\n",
      "Stats of batch 1:\n",
      "Samples: 10000\n",
      "Label Counts: {0: 1005, 1: 974, 2: 1032, 3: 1016, 4: 999, 5: 937, 6: 1030, 7: 1001, 8: 1025, 9: 981}\n",
      "First 20 Labels: [6, 9, 9, 4, 1, 1, 2, 7, 8, 3, 4, 7, 7, 2, 9, 9, 9, 3, 2, 6]\n",
      "\n",
      "Example of Image 150:\n",
      "Image - Min Value: 19 Max Value: 234\n",
      "Image - Shape: (32, 32, 3)\n",
      "Label - Label Id: 3 Name: cat\n"
     ]
    },
    {
     "data": {
      "image/png": "[encoded data removed]",
      "text/plain": [
       "<matplotlib.figure.Figure at 0x7feaf876fba8>"
      ]
     },
     "metadata": {
      "image/png": {
       "height": 248,
       "width": 249
      },
      "tags": []
     },
     "output_type": "display_data"
    }
   ],
   "source": [
    "%matplotlib inline\n",
    "%config InlineBackend.figure_format = 'retina'\n",
    "\n",
    "import helper\n",
    "import numpy as np\n",
    "\n",
    "# Explore the dataset\n",
    "batch_id = 1\n",
    "sample_id = 150\n",
    "helper.display_stats(cifar10_dataset_folder_path, batch_id, sample_id)"
   ]
  },
  {
   "cell_type": "markdown",
   "metadata": {
    "colab_type": "text",
    "id": "WhckAQrx2kLG"
   },
   "source": [
    "## Implement Preprocess Functions\n",
    "### Normalize\n",
    "In the cell below, implement the `normalize` function to take in image data, `x`, and return it as a normalized Numpy array. The values should be in the range of 0 to 1, inclusive.  The return object should be the same shape as `x`."
   ]
  },
  {
   "cell_type": "code",
   "execution_count": 44,
   "metadata": {
    "colab": {
     "base_uri": "https://localhost:8080/",
     "height": 34
    },
    "colab_type": "code",
    "id": "50kHLB0j2kLG",
    "outputId": "cf5765ef-7abd-44f9-b005-c80994de0b10"
   },
   "outputs": [
    {
     "name": "stdout",
     "output_type": "stream",
     "text": [
      "Tests Passed\n"
     ]
    }
   ],
   "source": [
    "def normalize(x):\n",
    "    \"\"\"\n",
    "    Normalize a list of sample image data in the range of 0 to 1\n",
    "    : x: List of image data.  The image shape is (32, 32, 3)\n",
    "    : return: Numpy array of normalize data\n",
    "    \"\"\"\n",
    "    x_min = np.min(x);\n",
    "    x_max = np.max(x);\n",
    "    norm_arr = list();\n",
    "    x_diff = x_max - x_min;\n",
    "    for x_current in x:\n",
    "        norm_arr.append((x_current - x_min) / x_diff);\n",
    "    \n",
    "    return np.array(norm_arr);\n",
    "\n",
    "\n",
    "\"\"\"\n",
    "DON'T MODIFY ANYTHING IN THIS CELL THAT IS BELOW THIS LINE\n",
    "\"\"\"\n",
    "tests.test_normalize(normalize)"
   ]
  },
  {
   "cell_type": "markdown",
   "metadata": {
    "colab_type": "text",
    "id": "1RJzv0w_2kLL"
   },
   "source": [
    "### One-hot encode\n",
    "Just like the previous code cell, you'll be implementing a function for preprocessing.  This time, you'll implement the `one_hot_encode` function. The input, `x`, are a list of labels.  Implement the function to return the list of labels as One-Hot encoded Numpy array.  The possible values for labels are 0 to 9. The one-hot encoding function should return the same encoding for each value between each call to `one_hot_encode`.  Make sure to save the map of encodings outside the function.\n",
    "\n",
    "**Hint:**\n",
    "\n",
    "Look into LabelBinarizer in the preprocessing module of sklearn."
   ]
  },
  {
   "cell_type": "code",
   "execution_count": 45,
   "metadata": {
    "colab": {
     "base_uri": "https://localhost:8080/",
     "height": 34
    },
    "colab_type": "code",
    "id": "6UOkuL7H2kLM",
    "outputId": "fb03112a-3f85-4363-abaa-87b6ed1672a7"
   },
   "outputs": [
    {
     "name": "stdout",
     "output_type": "stream",
     "text": [
      "Tests Passed\n"
     ]
    }
   ],
   "source": [
    "def one_hot_encode(x):\n",
    "    \"\"\"\n",
    "    One hot encode a list of sample labels. Return a one-hot encoded vector for each label.\n",
    "    : x: List of sample Labels\n",
    "    : return: Numpy array of one-hot encoded labels\n",
    "    \"\"\" \n",
    "    # TODO: Implement Function\n",
    "    from sklearn.preprocessing import OneHotEncoder\n",
    "    encoder = OneHotEncoder(n_values=10)\n",
    "    oneHotArr = encoder.fit_transform(np.array(x).reshape(-1, 1)).toarray()\n",
    "    return oneHotArr\n",
    "\n",
    "\n",
    "\"\"\"\n",
    "DON'T MODIFY ANYTHING IN THIS CELL THAT IS BELOW THIS LINE\n",
    "\"\"\"\n",
    "tests.test_one_hot_encode(one_hot_encode)"
   ]
  },
  {
   "cell_type": "markdown",
   "metadata": {
    "colab_type": "text",
    "id": "ydFBD6M02kLQ"
   },
   "source": [
    "### Randomize Data\n",
    "As you saw from exploring the data above, the order of the samples are randomized.  It doesn't hurt to randomize it again, but you don't need to for this dataset."
   ]
  },
  {
   "cell_type": "markdown",
   "metadata": {
    "colab_type": "text",
    "id": "2Jz4SCn22kLR"
   },
   "source": [
    "## Preprocess all the data and save it\n",
    "Running the code cell below will preprocess all the CIFAR-10 data and save it to file. The code below also uses 10% of the training data for validation."
   ]
  },
  {
   "cell_type": "code",
   "execution_count": 0,
   "metadata": {
    "colab": {},
    "colab_type": "code",
    "id": "LoGCdGjU2kLR"
   },
   "outputs": [],
   "source": [
    "\"\"\"\n",
    "DON'T MODIFY ANYTHING IN THIS CELL\n",
    "\"\"\"\n",
    "# Preprocess Training, Validation, and Testing Data\n",
    "helper.preprocess_and_save_data(cifar10_dataset_folder_path, normalize, one_hot_encode)"
   ]
  },
  {
   "cell_type": "markdown",
   "metadata": {
    "colab_type": "text",
    "id": "l-OnpxDW2kLU"
   },
   "source": [
    "# Check Point\n",
    "This is your first checkpoint.  If you ever decide to come back to this notebook or have to restart the notebook, you can start from here.  The preprocessed data has been saved to disk."
   ]
  },
  {
   "cell_type": "code",
   "execution_count": 0,
   "metadata": {
    "colab": {},
    "colab_type": "code",
    "id": "NCIm3IKB2kLV"
   },
   "outputs": [],
   "source": [
    "\"\"\"\n",
    "DON'T MODIFY ANYTHING IN THIS CELL\n",
    "\"\"\"\n",
    "import pickle\n",
    "import problem_unittests as tests\n",
    "import helper\n",
    "\n",
    "# Load the Preprocessed Validation data\n",
    "valid_features, valid_labels = pickle.load(open('preprocess_validation.p', mode='rb'))"
   ]
  },
  {
   "cell_type": "markdown",
   "metadata": {
    "colab_type": "text",
    "id": "RGZAIeec2kLY"
   },
   "source": [
    "## Build the network\n",
    "For the neural network, you'll build each layer into a function.  Most of the code you've seen has been outside of functions. To test your code more thoroughly, we require that you put each layer in a function.  This allows us to give you better feedback and test for simple mistakes using our unittests before you submit your project.\n",
    "\n",
    ">**Note:** If you're finding it hard to dedicate enough time for this course each week, we've provided a small shortcut to this part of the project. In the next couple of problems, you'll have the option to use classes from the [TensorFlow Layers](https://www.tensorflow.org/api_docs/python/tf/layers) or [TensorFlow Layers (contrib)](https://www.tensorflow.org/api_guides/python/contrib.layers) packages to build each layer, except the layers you build in the \"Convolutional and Max Pooling Layer\" section.  TF Layers is similar to Keras's and TFLearn's abstraction to layers, so it's easy to pickup.\n",
    "\n",
    ">However, if you would like to get the most out of this course, try to solve all the problems _without_ using anything from the TF Layers packages. You **can** still use classes from other packages that happen to have the same name as ones you find in TF Layers! For example, instead of using the TF Layers version of the `conv2d` class, [tf.layers.conv2d](https://www.tensorflow.org/api_docs/python/tf/layers/conv2d), you would want to use the TF Neural Network version of `conv2d`, [tf.nn.conv2d](https://www.tensorflow.org/api_docs/python/tf/nn/conv2d). \n",
    "\n",
    "Let's begin!\n",
    "\n",
    "### Input\n",
    "The neural network needs to read the image data, one-hot encoded labels, and dropout keep probability. Implement the following functions\n",
    "* Implement `neural_net_image_input`\n",
    " * Return a [TF Placeholder](https://www.tensorflow.org/api_docs/python/tf/placeholder)\n",
    " * Set the shape using `image_shape` with batch size set to `None`.\n",
    " * Name the TensorFlow placeholder \"x\" using the TensorFlow `name` parameter in the [TF Placeholder](https://www.tensorflow.org/api_docs/python/tf/placeholder).\n",
    "* Implement `neural_net_label_input`\n",
    " * Return a [TF Placeholder](https://www.tensorflow.org/api_docs/python/tf/placeholder)\n",
    " * Set the shape using `n_classes` with batch size set to `None`.\n",
    " * Name the TensorFlow placeholder \"y\" using the TensorFlow `name` parameter in the [TF Placeholder](https://www.tensorflow.org/api_docs/python/tf/placeholder).\n",
    "* Implement `neural_net_keep_prob_input`\n",
    " * Return a [TF Placeholder](https://www.tensorflow.org/api_docs/python/tf/placeholder) for dropout keep probability.\n",
    " * Name the TensorFlow placeholder \"keep_prob\" using the TensorFlow `name` parameter in the [TF Placeholder](https://www.tensorflow.org/api_docs/python/tf/placeholder).\n",
    "\n",
    "These names will be used at the end of the project to load your saved model.\n",
    "\n",
    "Note: `None` for shapes in TensorFlow allow for a dynamic size."
   ]
  },
  {
   "cell_type": "code",
   "execution_count": 48,
   "metadata": {
    "colab": {
     "base_uri": "https://localhost:8080/",
     "height": 69
    },
    "colab_type": "code",
    "id": "bhXssg2K2kLZ",
    "outputId": "a146110f-a756-4859-ee40-1630b965f06c"
   },
   "outputs": [
    {
     "name": "stdout",
     "output_type": "stream",
     "text": [
      "Image Input Tests Passed.\n",
      "Label Input Tests Passed.\n",
      "Keep Prob Tests Passed.\n"
     ]
    }
   ],
   "source": [
    "import tensorflow as tf\n",
    "\n",
    "def neural_net_image_input(image_shape):\n",
    "    \"\"\"\n",
    "    Return a Tensor for a batch of image input\n",
    "    : image_shape: Shape of the images\n",
    "    : return: Tensor for image input.\n",
    "    \"\"\"\n",
    "    return tf.placeholder(tf.float32, shape=[None, image_shape[0], image_shape[1], image_shape[2]], name=\"x\")\n",
    "\n",
    "\n",
    "def neural_net_label_input(n_classes):\n",
    "    \"\"\"\n",
    "    Return a Tensor for a batch of label input\n",
    "    : n_classes: Number of classes\n",
    "    : return: Tensor for label input.\n",
    "    \"\"\"\n",
    "    return tf.placeholder(tf.float32, shape=(None, n_classes), name=\"y\")\n",
    "\n",
    "\n",
    "def neural_net_keep_prob_input():\n",
    "    \"\"\"\n",
    "    Return a Tensor for keep probability\n",
    "    : return: Tensor for keep probability.\n",
    "    \"\"\"\n",
    "    return tf.placeholder(tf.float32, shape=(None), name=\"keep_prob\")\n",
    "\n",
    "\n",
    "\"\"\"\n",
    "DON'T MODIFY ANYTHING IN THIS CELL THAT IS BELOW THIS LINE\n",
    "\"\"\"\n",
    "tf.reset_default_graph()\n",
    "tests.test_nn_image_inputs(neural_net_image_input)\n",
    "tests.test_nn_label_inputs(neural_net_label_input)\n",
    "tests.test_nn_keep_prob_inputs(neural_net_keep_prob_input)"
   ]
  },
  {
   "cell_type": "markdown",
   "metadata": {
    "colab_type": "text",
    "id": "MY7C20912kLc"
   },
   "source": [
    "### Convolution and Max Pooling Layer\n",
    "Convolution layers have a lot of success with images. For this code cell, you should implement the function `conv2d_maxpool` to apply convolution then max pooling:\n",
    "* Create the weight and bias using `conv_ksize`, `conv_num_outputs` and the shape of `x_tensor`.\n",
    "* Apply a convolution to `x_tensor` using weight and `conv_strides`.\n",
    " * We recommend you use same padding, but you're welcome to use any padding.\n",
    "* Add bias\n",
    "* Add a nonlinear activation to the convolution.\n",
    "* Apply Max Pooling using `pool_ksize` and `pool_strides`.\n",
    " * We recommend you use same padding, but you're welcome to use any padding.\n",
    "\n",
    "**Note:** You **can't** use [TensorFlow Layers](https://www.tensorflow.org/api_docs/python/tf/layers) or [TensorFlow Layers (contrib)](https://www.tensorflow.org/api_guides/python/contrib.layers) for **this** layer, but you can still use TensorFlow's [Neural Network](https://www.tensorflow.org/api_docs/python/tf/nn) package. You may still use the shortcut option for all the **other** layers.\n",
    "\n",
    "** Hint: **\n",
    "\n",
    "When unpacking values as an argument in Python, look into the [unpacking](https://docs.python.org/3/tutorial/controlflow.html#unpacking-argument-lists) operator. "
   ]
  },
  {
   "cell_type": "code",
   "execution_count": 49,
   "metadata": {
    "colab": {
     "base_uri": "https://localhost:8080/",
     "height": 34
    },
    "colab_type": "code",
    "id": "RFaWTlX_2kLe",
    "outputId": "701d9375-67e2-40f5-b4f9-780811898df2"
   },
   "outputs": [
    {
     "name": "stdout",
     "output_type": "stream",
     "text": [
      "Tests Passed\n"
     ]
    }
   ],
   "source": [
    "def conv2d_maxpool(x_tensor, conv_num_outputs, conv_ksize, conv_strides, pool_ksize, pool_strides):\n",
    "    \"\"\"\n",
    "    Apply convolution then max pooling to x_tensor\n",
    "    :param x_tensor: TensorFlow Tensor\n",
    "    :param conv_num_outputs: Number of outputs for the convolutional layer\n",
    "    :param conv_ksize: kernal size 2-D Tuple for the convolutional layer\n",
    "    :param conv_strides: Stride 2-D Tuple for convolution\n",
    "    :param pool_ksize: kernal size 2-D Tuple for pool\n",
    "    :param pool_strides: Stride 2-D Tuple for pool\n",
    "    : return: A tensor that represents convolution and max pooling of x_tensor\n",
    "    \"\"\"\n",
    "    # compute weight\n",
    "    weight = tf.Variable(tf.truncated_normal([conv_ksize[0], conv_ksize[1],\n",
    "                                              x_tensor.get_shape().as_list()[3], conv_num_outputs], stddev=0.1))\n",
    "    # compute bias\n",
    "    bias = tf.Variable(tf.random_normal([conv_num_outputs], stddev=0.1))\n",
    "    \n",
    "    # apply convolution, bias & activation function\n",
    "    convLayer = tf.nn.conv2d(x_tensor, weight, strides=[1, conv_strides[0], conv_strides[1], 1], padding='SAME')\n",
    "    convLayer = tf.nn.bias_add(convLayer, bias)\n",
    "    convLayer = tf.nn.relu(convLayer)\n",
    "    \n",
    "    # apply max pool\n",
    "    convLayer = tf.nn.max_pool(convLayer, ksize=[1, pool_ksize[0], pool_ksize[1], 1], \n",
    "                          strides=[1, pool_strides[0], pool_strides[1], 1], padding='SAME')\n",
    "    return convLayer \n",
    "\n",
    "\n",
    "\"\"\"\n",
    "DON'T MODIFY ANYTHING IN THIS CELL THAT IS BELOW THIS LINE\n",
    "\"\"\"\n",
    "tests.test_con_pool(conv2d_maxpool)"
   ]
  },
  {
   "cell_type": "markdown",
   "metadata": {
    "colab_type": "text",
    "id": "8NZHQgX_2kLh"
   },
   "source": [
    "### Flatten Layer\n",
    "Implement the `flatten` function to change the dimension of `x_tensor` from a 4-D tensor to a 2-D tensor.  The output should be the shape (*Batch Size*, *Flattened Image Size*). Shortcut option: you can use classes from the [TensorFlow Layers](https://www.tensorflow.org/api_docs/python/tf/layers) or [TensorFlow Layers (contrib)](https://www.tensorflow.org/api_guides/python/contrib.layers) packages for this layer. For more of a challenge, only use other TensorFlow packages."
   ]
  },
  {
   "cell_type": "code",
   "execution_count": 50,
   "metadata": {
    "colab": {
     "base_uri": "https://localhost:8080/",
     "height": 34
    },
    "colab_type": "code",
    "id": "S8sOIQAF2kLi",
    "outputId": "a7c5a4bb-3039-48c4-d9be-b0ac20aff07b"
   },
   "outputs": [
    {
     "name": "stdout",
     "output_type": "stream",
     "text": [
      "Tests Passed\n"
     ]
    }
   ],
   "source": [
    "def flatten(x_tensor):\n",
    "    \"\"\"\n",
    "    Flatten x_tensor to (Batch Size, Flattened Image Size)\n",
    "    : x_tensor: A tensor of size (Batch Size, ...), where ... are the image dimensions.\n",
    "    : return: A tensor of size (Batch Size, Flattened Image Size).\n",
    "    \"\"\"\n",
    "    return tf.contrib.layers.flatten(x_tensor)\n",
    "\n",
    "\n",
    "\"\"\"\n",
    "DON'T MODIFY ANYTHING IN THIS CELL THAT IS BELOW THIS LINE\n",
    "\"\"\"\n",
    "tests.test_flatten(flatten)"
   ]
  },
  {
   "cell_type": "markdown",
   "metadata": {
    "colab_type": "text",
    "id": "hxxvtAih2kLm"
   },
   "source": [
    "### Fully-Connected Layer\n",
    "Implement the `fully_conn` function to apply a fully connected layer to `x_tensor` with the shape (*Batch Size*, *num_outputs*). Shortcut option: you can use classes from the [TensorFlow Layers](https://www.tensorflow.org/api_docs/python/tf/layers) or [TensorFlow Layers (contrib)](https://www.tensorflow.org/api_guides/python/contrib.layers) packages for this layer. For more of a challenge, only use other TensorFlow packages."
   ]
  },
  {
   "cell_type": "code",
   "execution_count": 51,
   "metadata": {
    "colab": {
     "base_uri": "https://localhost:8080/",
     "height": 34
    },
    "colab_type": "code",
    "id": "INiWkIlj2kLn",
    "outputId": "19282bcb-c7b2-4fc9-8a46-04c43783f09b"
   },
   "outputs": [
    {
     "name": "stdout",
     "output_type": "stream",
     "text": [
      "Tests Passed\n"
     ]
    }
   ],
   "source": [
    "def fully_conn(x_tensor, num_outputs):\n",
    "    \"\"\"\n",
    "    Apply a fully connected layer to x_tensor using weight and bias\n",
    "    : x_tensor: A 2-D tensor where the first dimension is batch size.\n",
    "    : num_outputs: The number of output that the new tensor should be.\n",
    "    : return: A 2-D tensor where the second dimension is num_outputs.\n",
    "    \"\"\"\n",
    "    return tf.contrib.layers.fully_connected(x_tensor, num_outputs)\n",
    "\n",
    "\"\"\"\n",
    "DON'T MODIFY ANYTHING IN THIS CELL THAT IS BELOW THIS LINE\n",
    "\"\"\"\n",
    "tests.test_fully_conn(fully_conn)"
   ]
  },
  {
   "cell_type": "markdown",
   "metadata": {
    "colab_type": "text",
    "id": "TJQPXW6h2kLr"
   },
   "source": [
    "### Output Layer\n",
    "Implement the `output` function to apply a fully connected layer to `x_tensor` with the shape (*Batch Size*, *num_outputs*). Shortcut option: you can use classes from the [TensorFlow Layers](https://www.tensorflow.org/api_docs/python/tf/layers) or [TensorFlow Layers (contrib)](https://www.tensorflow.org/api_guides/python/contrib.layers) packages for this layer. For more of a challenge, only use other TensorFlow packages.\n",
    "\n",
    "**Note:** Activation, softmax, or cross entropy should **not** be applied to this."
   ]
  },
  {
   "cell_type": "code",
   "execution_count": 52,
   "metadata": {
    "colab": {
     "base_uri": "https://localhost:8080/",
     "height": 34
    },
    "colab_type": "code",
    "id": "FHbBkTBD2kLs",
    "outputId": "d6364541-b59a-4ea5-fe1b-39c7c750ca18"
   },
   "outputs": [
    {
     "name": "stdout",
     "output_type": "stream",
     "text": [
      "Tests Passed\n"
     ]
    }
   ],
   "source": [
    "def output(x_tensor, num_outputs):\n",
    "    \"\"\"\n",
    "    Apply a output layer to x_tensor using weight and bias\n",
    "    : x_tensor: A 2-D tensor where the first dimension is batch size.\n",
    "    : num_outputs: The number of output that the new tensor should be.\n",
    "    : return: A 2-D tensor where the second dimension is num_outputs.\n",
    "    \"\"\"\n",
    "    return tf.contrib.layers.fully_connected(x_tensor, num_outputs)\n",
    "\n",
    "\n",
    "\"\"\"\n",
    "DON'T MODIFY ANYTHING IN THIS CELL THAT IS BELOW THIS LINE\n",
    "\"\"\"\n",
    "tests.test_output(output)"
   ]
  },
  {
   "cell_type": "markdown",
   "metadata": {
    "colab_type": "text",
    "id": "MAvf1gTG2kLv"
   },
   "source": [
    "### Create Convolutional Model\n",
    "Implement the function `conv_net` to create a convolutional neural network model. The function takes in a batch of images, `x`, and outputs logits.  Use the layers you created above to create this model:\n",
    "\n",
    "* Apply 1, 2, or 3 Convolution and Max Pool layers\n",
    "* Apply a Flatten Layer\n",
    "* Apply 1, 2, or 3 Fully Connected Layers\n",
    "* Apply an Output Layer\n",
    "* Return the output\n",
    "* Apply [TensorFlow's Dropout](https://www.tensorflow.org/api_docs/python/tf/nn/dropout) to one or more layers in the model using `keep_prob`. "
   ]
  },
  {
   "cell_type": "code",
   "execution_count": 53,
   "metadata": {
    "colab": {
     "base_uri": "https://localhost:8080/",
     "height": 34
    },
    "colab_type": "code",
    "id": "kSS3ebUr2kLw",
    "outputId": "8572f4d8-aa5f-40f2-8661-4b88fb86347d"
   },
   "outputs": [
    {
     "name": "stdout",
     "output_type": "stream",
     "text": [
      "Neural Network Built!\n"
     ]
    }
   ],
   "source": [
    "def conv_net(x, keep_prob):\n",
    "    \"\"\"\n",
    "    Create a convolutional neural network model\n",
    "    : x: Placeholder tensor that holds image data.\n",
    "    : keep_prob: Placeholder tensor that hold dropout keep probability.\n",
    "    : return: Tensor that represents logits\n",
    "    \"\"\"\n",
    "    # TODO: Apply 1, 2, or 3 Convolution and Max Pool layers\n",
    "    #    Play around with different number of outputs, kernel size and stride\n",
    "    # Function Definition from Above:\n",
    "    #    conv2d_maxpool(x_tensor, conv_num_outputs, conv_ksize, conv_strides, pool_ksize, pool_strides)\n",
    "    \n",
    "    num_outputs = 10\n",
    "    conv_ksize=[6, 6]\n",
    "    conv_strides=[1,1]\n",
    "    pool_ksize=[2,2]\n",
    "    pool_strides=[2,2]\n",
    "    \n",
    "    conv2d_maxpool_l1= conv2d_maxpool(x, 128, conv_ksize, conv_strides, pool_ksize, pool_strides)\n",
    "    conv2d_maxpool_l2= conv2d_maxpool(conv2d_maxpool_l1, 256, conv_ksize, conv_strides, pool_ksize, pool_strides)\n",
    "\n",
    "\n",
    "    # TODO: Apply a Flatten Layer\n",
    "    # Function Definition from Above:\n",
    "    #   flatten(x_tensor)\n",
    "    flattened_layer = flatten(conv2d_maxpool_l2)\n",
    "    flattened_layer2 = tf.nn.dropout(flattened_layer, keep_prob)\n",
    "\n",
    "\n",
    "    # TODO: Apply 1, 2, or 3 Fully Connected Layers\n",
    "    #    Play around with different number of outputs\n",
    "    # Function Definition from Above:\n",
    "    #   fully_conn(x_tensor, num_outputs)\n",
    "    fully_conn_l1 = fully_conn(flattened_layer2, 256)\n",
    "    fully_conn_l2 = tf.nn.dropout(fully_conn_l1, keep_prob)\n",
    "    fully_conn_l3 = fully_conn(fully_conn_l2, 128)\n",
    "    \n",
    "    # TODO: Apply an Output Layer\n",
    "    #    Set this to the number of classes\n",
    "    # Function Definition from Above:\n",
    "    #   output(x_tensor, num_outputs)\n",
    "    output_layer = output(fully_conn_l3, num_outputs)\n",
    "\n",
    "    \n",
    "    # TODO: return output\n",
    "    return output_layer\n",
    "\n",
    "\n",
    "\"\"\"\n",
    "DON'T MODIFY ANYTHING IN THIS CELL THAT IS BELOW THIS LINE\n",
    "\"\"\"\n",
    "\n",
    "##############################\n",
    "## Build the Neural Network ##\n",
    "##############################\n",
    "\n",
    "# Remove previous weights, bias, inputs, etc..\n",
    "tf.reset_default_graph()\n",
    "\n",
    "# Inputs\n",
    "x = neural_net_image_input((32, 32, 3))\n",
    "y = neural_net_label_input(10)\n",
    "keep_prob = neural_net_keep_prob_input()\n",
    "\n",
    "# Model\n",
    "logits = conv_net(x, keep_prob)\n",
    "\n",
    "# Name logits Tensor, so that is can be loaded from disk after training\n",
    "logits = tf.identity(logits, name='logits')\n",
    "\n",
    "# Loss and Optimizer\n",
    "cost = tf.reduce_mean(tf.nn.softmax_cross_entropy_with_logits(logits=logits, labels=y))\n",
    "optimizer = tf.train.AdamOptimizer().minimize(cost)\n",
    "\n",
    "# Accuracy\n",
    "correct_pred = tf.equal(tf.argmax(logits, 1), tf.argmax(y, 1))\n",
    "accuracy = tf.reduce_mean(tf.cast(correct_pred, tf.float32), name='accuracy')\n",
    "\n",
    "tests.test_conv_net(conv_net)\n",
    "    "
   ]
  },
  {
   "cell_type": "markdown",
   "metadata": {
    "colab_type": "text",
    "id": "R7vXYFbD2kL3"
   },
   "source": [
    "## Train the Neural Network\n",
    "### Single Optimization\n",
    "Implement the function `train_neural_network` to do a single optimization.  The optimization should use `optimizer` to optimize in `session` with a `feed_dict` of the following:\n",
    "* `x` for image input\n",
    "* `y` for labels\n",
    "* `keep_prob` for keep probability for dropout\n",
    "\n",
    "This function will be called for each batch, so `tf.global_variables_initializer()` has already been called.\n",
    "\n",
    "Note: Nothing needs to be returned. This function is only optimizing the neural network."
   ]
  },
  {
   "cell_type": "code",
   "execution_count": 54,
   "metadata": {
    "colab": {
     "base_uri": "https://localhost:8080/",
     "height": 34
    },
    "colab_type": "code",
    "id": "onVnCyEp2kL4",
    "outputId": "2bb79006-9a69-41d8-df42-0f4c531d916f"
   },
   "outputs": [
    {
     "name": "stdout",
     "output_type": "stream",
     "text": [
      "Tests Passed\n"
     ]
    }
   ],
   "source": [
    "def train_neural_network(session, optimizer, keep_probability, feature_batch, label_batch):\n",
    "    \"\"\"\n",
    "    Optimize the session on a batch of images and labels\n",
    "    : session: Current TensorFlow session\n",
    "    : optimizer: TensorFlow optimizer function\n",
    "    : keep_probability: keep probability\n",
    "    : feature_batch: Batch of Numpy image data\n",
    "    : label_batch: Batch of Numpy label data\n",
    "    \"\"\"\n",
    "    # TODO: Implement Function\n",
    "    session.run(optimizer, feed_dict={x: feature_batch, y: label_batch, keep_prob: keep_probability})\n",
    "    pass\n",
    "\n",
    "\n",
    "\"\"\"\n",
    "DON'T MODIFY ANYTHING IN THIS CELL THAT IS BELOW THIS LINE\n",
    "\"\"\"\n",
    "tests.test_train_nn(train_neural_network)"
   ]
  },
  {
   "cell_type": "markdown",
   "metadata": {
    "colab_type": "text",
    "id": "LSdYuKAx2kL9"
   },
   "source": [
    "### Show Stats\n",
    "Implement the function `print_stats` to print loss and validation accuracy.  Use the global variables `valid_features` and `valid_labels` to calculate validation accuracy.  Use a keep probability of `1.0` to calculate the loss and validation accuracy."
   ]
  },
  {
   "cell_type": "code",
   "execution_count": 0,
   "metadata": {
    "colab": {},
    "colab_type": "code",
    "id": "urK19YKD2kL_"
   },
   "outputs": [],
   "source": [
    "def print_stats(session, feature_batch, label_batch, cost, accuracy):\n",
    "    \"\"\"\n",
    "    Print information about loss and validation accuracy\n",
    "    : session: Current TensorFlow session\n",
    "    : feature_batch: Batch of Numpy image data\n",
    "    : label_batch: Batch of Numpy label data\n",
    "    : cost: TensorFlow cost function\n",
    "    : accuracy: TensorFlow accuracy function\n",
    "    \"\"\"\n",
    "    # TODO: Implement Function\n",
    "    loss_percentage = session.run(cost, feed_dict={x: feature_batch, y: label_batch, keep_prob: 1.0})\n",
    "    validation_accuracy = session.run(accuracy, feed_dict={x: valid_features, y: valid_labels, keep_prob: 1.0})\n",
    "    \n",
    "    print('Loss: {:.4f} Validation Accuracy: {:.2f}'.format(loss_percentage, validation_accuracy))\n",
    "\n",
    "    pass"
   ]
  },
  {
   "cell_type": "markdown",
   "metadata": {
    "colab_type": "text",
    "id": "esLxK4rw2kMD"
   },
   "source": [
    "### Hyperparameters\n",
    "Tune the following parameters:\n",
    "* Set `epochs` to the number of iterations until the network stops learning or start overfitting\n",
    "* Set `batch_size` to the highest number that your machine has memory for.  Most people set them to common sizes of memory:\n",
    " * 64\n",
    " * 128\n",
    " * 256\n",
    " * ...\n",
    "* Set `keep_probability` to the probability of keeping a node using dropout"
   ]
  },
  {
   "cell_type": "code",
   "execution_count": 0,
   "metadata": {
    "colab": {},
    "colab_type": "code",
    "id": "AxT7RamN2kME"
   },
   "outputs": [],
   "source": [
    "# TODO: Tune Parameters\n",
    "epochs = 30\n",
    "batch_size = 512\n",
    "keep_probability = 0.7"
   ]
  },
  {
   "cell_type": "markdown",
   "metadata": {
    "colab_type": "text",
    "id": "UCi60quz2kMH"
   },
   "source": [
    "### Train on a Single CIFAR-10 Batch\n",
    "Instead of training the neural network on all the CIFAR-10 batches of data, let's use a single batch. This should save time while you iterate on the model to get a better accuracy.  Once the final validation accuracy is 50% or greater, run the model on all the data in the next section."
   ]
  },
  {
   "cell_type": "code",
   "execution_count": 18,
   "metadata": {
    "colab": {
     "base_uri": "https://localhost:8080/",
     "height": 550
    },
    "colab_type": "code",
    "id": "XxUWv5vm2kMI",
    "outputId": "30e8817b-e6dc-47eb-940f-8e65f39fc19c"
   },
   "outputs": [
    {
     "name": "stdout",
     "output_type": "stream",
     "text": [
      "Checking the Training on a Single Batch...\n",
      "Epoch  1, CIFAR-10 Batch 1:  Loss: 2.3026 Validation Accuracy: 0.10\n",
      "Epoch  2, CIFAR-10 Batch 1:  Loss: 2.3026 Validation Accuracy: 0.10\n",
      "Epoch  3, CIFAR-10 Batch 1:  Loss: 2.2468 Validation Accuracy: 0.17\n",
      "Epoch  4, CIFAR-10 Batch 1:  Loss: 2.2028 Validation Accuracy: 0.23\n",
      "Epoch  5, CIFAR-10 Batch 1:  Loss: 2.1388 Validation Accuracy: 0.25\n",
      "Epoch  6, CIFAR-10 Batch 1:  Loss: 2.0378 Validation Accuracy: 0.30\n",
      "Epoch  7, CIFAR-10 Batch 1:  Loss: 1.8601 Validation Accuracy: 0.39\n",
      "Epoch  8, CIFAR-10 Batch 1:  Loss: 1.7035 Validation Accuracy: 0.42\n",
      "Epoch  9, CIFAR-10 Batch 1:  Loss: 1.6450 Validation Accuracy: 0.44\n",
      "Epoch 10, CIFAR-10 Batch 1:  Loss: 1.4636 Validation Accuracy: 0.47\n",
      "Epoch 11, CIFAR-10 Batch 1:  Loss: 1.3438 Validation Accuracy: 0.49\n",
      "Epoch 12, CIFAR-10 Batch 1:  Loss: 1.2019 Validation Accuracy: 0.51\n",
      "Epoch 13, CIFAR-10 Batch 1:  Loss: 1.1106 Validation Accuracy: 0.52\n",
      "Epoch 14, CIFAR-10 Batch 1:  Loss: 1.0534 Validation Accuracy: 0.53\n",
      "Epoch 15, CIFAR-10 Batch 1:  Loss: 0.9731 Validation Accuracy: 0.54\n",
      "Epoch 16, CIFAR-10 Batch 1:  Loss: 0.8577 Validation Accuracy: 0.54\n",
      "Epoch 17, CIFAR-10 Batch 1:  Loss: 0.8490 Validation Accuracy: 0.53\n",
      "Epoch 18, CIFAR-10 Batch 1:  Loss: 0.7052 Validation Accuracy: 0.56\n",
      "Epoch 19, CIFAR-10 Batch 1:  Loss: 0.6357 Validation Accuracy: 0.57\n",
      "Epoch 20, CIFAR-10 Batch 1:  Loss: 0.5672 Validation Accuracy: 0.57\n",
      "Epoch 21, CIFAR-10 Batch 1:  Loss: 0.5226 Validation Accuracy: 0.57\n",
      "Epoch 22, CIFAR-10 Batch 1:  Loss: 0.4669 Validation Accuracy: 0.57\n",
      "Epoch 23, CIFAR-10 Batch 1:  Loss: 0.3925 Validation Accuracy: 0.58\n",
      "Epoch 24, CIFAR-10 Batch 1:  Loss: 0.3616 Validation Accuracy: 0.58\n",
      "Epoch 25, CIFAR-10 Batch 1:  Loss: 0.3239 Validation Accuracy: 0.58\n",
      "Epoch 26, CIFAR-10 Batch 1:  Loss: 0.2712 Validation Accuracy: 0.58\n",
      "Epoch 27, CIFAR-10 Batch 1:  Loss: 0.2371 Validation Accuracy: 0.58\n",
      "Epoch 28, CIFAR-10 Batch 1:  Loss: 0.2430 Validation Accuracy: 0.56\n",
      "Epoch 29, CIFAR-10 Batch 1:  Loss: 0.2334 Validation Accuracy: 0.56\n",
      "Epoch 30, CIFAR-10 Batch 1:  Loss: 0.1886 Validation Accuracy: 0.57\n"
     ]
    }
   ],
   "source": [
    "\"\"\"\n",
    "DON'T MODIFY ANYTHING IN THIS CELL\n",
    "\"\"\"\n",
    "print('Checking the Training on a Single Batch...')\n",
    "with tf.Session() as sess:\n",
    "    # Initializing the variables\n",
    "    sess.run(tf.global_variables_initializer())\n",
    "    \n",
    "    # Training cycle\n",
    "    for epoch in range(epochs):\n",
    "        batch_i = 1\n",
    "        for batch_features, batch_labels in helper.load_preprocess_training_batch(batch_i, batch_size):\n",
    "            train_neural_network(sess, optimizer, keep_probability, batch_features, batch_labels)\n",
    "        print('Epoch {:>2}, CIFAR-10 Batch {}:  '.format(epoch + 1, batch_i), end='')\n",
    "        print_stats(sess, batch_features, batch_labels, cost, accuracy)"
   ]
  },
  {
   "cell_type": "markdown",
   "metadata": {
    "colab_type": "text",
    "id": "CYIVu0dv2kML"
   },
   "source": [
    "### Fully Train the Model\n",
    "Now that you got a good accuracy with a single CIFAR-10 batch, try it with all five batches."
   ]
  },
  {
   "cell_type": "code",
   "execution_count": 57,
   "metadata": {
    "colab": {
     "base_uri": "https://localhost:8080/",
     "height": 2614
    },
    "colab_type": "code",
    "id": "sB16UDN42kMM",
    "outputId": "3e2295fd-5c41-44d6-9988-5e8367cb0716"
   },
   "outputs": [
    {
     "name": "stdout",
     "output_type": "stream",
     "text": [
      "Training...\n",
      "Epoch  1, CIFAR-10 Batch 1:  Loss: 2.3026 Validation Accuracy: 0.10\n",
      "Epoch  1, CIFAR-10 Batch 2:  Loss: 2.3026 Validation Accuracy: 0.10\n",
      "Epoch  1, CIFAR-10 Batch 3:  Loss: 2.3026 Validation Accuracy: 0.10\n",
      "Epoch  1, CIFAR-10 Batch 4:  Loss: 2.3026 Validation Accuracy: 0.10\n",
      "Epoch  1, CIFAR-10 Batch 5:  Loss: 2.2237 Validation Accuracy: 0.19\n",
      "Epoch  2, CIFAR-10 Batch 1:  Loss: 2.2099 Validation Accuracy: 0.21\n",
      "Epoch  2, CIFAR-10 Batch 2:  Loss: 2.1104 Validation Accuracy: 0.22\n",
      "Epoch  2, CIFAR-10 Batch 3:  Loss: 2.1071 Validation Accuracy: 0.23\n",
      "Epoch  2, CIFAR-10 Batch 4:  Loss: 2.0125 Validation Accuracy: 0.28\n",
      "Epoch  2, CIFAR-10 Batch 5:  Loss: 1.8633 Validation Accuracy: 0.31\n",
      "Epoch  3, CIFAR-10 Batch 1:  Loss: 1.8850 Validation Accuracy: 0.37\n",
      "Epoch  3, CIFAR-10 Batch 2:  Loss: 1.6225 Validation Accuracy: 0.41\n",
      "Epoch  3, CIFAR-10 Batch 3:  Loss: 1.5736 Validation Accuracy: 0.43\n",
      "Epoch  3, CIFAR-10 Batch 4:  Loss: 1.5012 Validation Accuracy: 0.44\n",
      "Epoch  3, CIFAR-10 Batch 5:  Loss: 1.5343 Validation Accuracy: 0.46\n",
      "Epoch  4, CIFAR-10 Batch 1:  Loss: 1.6279 Validation Accuracy: 0.48\n",
      "Epoch  4, CIFAR-10 Batch 2:  Loss: 1.4718 Validation Accuracy: 0.46\n",
      "Epoch  4, CIFAR-10 Batch 3:  Loss: 1.4067 Validation Accuracy: 0.49\n",
      "Epoch  4, CIFAR-10 Batch 4:  Loss: 1.2185 Validation Accuracy: 0.53\n",
      "Epoch  4, CIFAR-10 Batch 5:  Loss: 1.2380 Validation Accuracy: 0.56\n",
      "Epoch  5, CIFAR-10 Batch 1:  Loss: 1.2259 Validation Accuracy: 0.57\n",
      "Epoch  5, CIFAR-10 Batch 2:  Loss: 1.0892 Validation Accuracy: 0.56\n",
      "Epoch  5, CIFAR-10 Batch 3:  Loss: 0.9854 Validation Accuracy: 0.58\n",
      "Epoch  5, CIFAR-10 Batch 4:  Loss: 0.8888 Validation Accuracy: 0.60\n",
      "Epoch  5, CIFAR-10 Batch 5:  Loss: 0.9330 Validation Accuracy: 0.61\n",
      "Epoch  6, CIFAR-10 Batch 1:  Loss: 0.9471 Validation Accuracy: 0.64\n",
      "Epoch  6, CIFAR-10 Batch 2:  Loss: 0.9261 Validation Accuracy: 0.62\n",
      "Epoch  6, CIFAR-10 Batch 3:  Loss: 0.8260 Validation Accuracy: 0.63\n",
      "Epoch  6, CIFAR-10 Batch 4:  Loss: 0.7518 Validation Accuracy: 0.64\n",
      "Epoch  6, CIFAR-10 Batch 5:  Loss: 0.7624 Validation Accuracy: 0.64\n",
      "Epoch  7, CIFAR-10 Batch 1:  Loss: 0.8107 Validation Accuracy: 0.64\n",
      "Epoch  7, CIFAR-10 Batch 2:  Loss: 0.7586 Validation Accuracy: 0.64\n",
      "Epoch  7, CIFAR-10 Batch 3:  Loss: 0.7094 Validation Accuracy: 0.64\n",
      "Epoch  7, CIFAR-10 Batch 4:  Loss: 0.6763 Validation Accuracy: 0.65\n",
      "Epoch  7, CIFAR-10 Batch 5:  Loss: 0.6648 Validation Accuracy: 0.67\n",
      "Epoch  8, CIFAR-10 Batch 1:  Loss: 0.7011 Validation Accuracy: 0.67\n",
      "Epoch  8, CIFAR-10 Batch 2:  Loss: 0.7082 Validation Accuracy: 0.66\n",
      "Epoch  8, CIFAR-10 Batch 3:  Loss: 0.5960 Validation Accuracy: 0.66\n",
      "Epoch  8, CIFAR-10 Batch 4:  Loss: 0.5586 Validation Accuracy: 0.67\n",
      "Epoch  8, CIFAR-10 Batch 5:  Loss: 0.5856 Validation Accuracy: 0.67\n",
      "Epoch  9, CIFAR-10 Batch 1:  Loss: 0.6007 Validation Accuracy: 0.67\n",
      "Epoch  9, CIFAR-10 Batch 2:  Loss: 0.5941 Validation Accuracy: 0.67\n",
      "Epoch  9, CIFAR-10 Batch 3:  Loss: 0.5283 Validation Accuracy: 0.67\n",
      "Epoch  9, CIFAR-10 Batch 4:  Loss: 0.5067 Validation Accuracy: 0.68\n",
      "Epoch  9, CIFAR-10 Batch 5:  Loss: 0.4812 Validation Accuracy: 0.69\n",
      "Epoch 10, CIFAR-10 Batch 1:  Loss: 0.5115 Validation Accuracy: 0.69\n",
      "Epoch 10, CIFAR-10 Batch 2:  Loss: 0.5123 Validation Accuracy: 0.68\n",
      "Epoch 10, CIFAR-10 Batch 3:  Loss: 0.4587 Validation Accuracy: 0.68\n",
      "Epoch 10, CIFAR-10 Batch 4:  Loss: 0.4280 Validation Accuracy: 0.69\n",
      "Epoch 10, CIFAR-10 Batch 5:  Loss: 0.4324 Validation Accuracy: 0.69\n",
      "Epoch 11, CIFAR-10 Batch 1:  Loss: 0.4530 Validation Accuracy: 0.68\n",
      "Epoch 11, CIFAR-10 Batch 2:  Loss: 0.4515 Validation Accuracy: 0.67\n",
      "Epoch 11, CIFAR-10 Batch 3:  Loss: 0.4133 Validation Accuracy: 0.69\n",
      "Epoch 11, CIFAR-10 Batch 4:  Loss: 0.3686 Validation Accuracy: 0.70\n",
      "Epoch 11, CIFAR-10 Batch 5:  Loss: 0.3785 Validation Accuracy: 0.71\n",
      "Epoch 12, CIFAR-10 Batch 1:  Loss: 0.4059 Validation Accuracy: 0.69\n",
      "Epoch 12, CIFAR-10 Batch 2:  Loss: 0.4310 Validation Accuracy: 0.69\n",
      "Epoch 12, CIFAR-10 Batch 3:  Loss: 0.3832 Validation Accuracy: 0.68\n",
      "Epoch 12, CIFAR-10 Batch 4:  Loss: 0.3014 Validation Accuracy: 0.70\n",
      "Epoch 12, CIFAR-10 Batch 5:  Loss: 0.3519 Validation Accuracy: 0.69\n",
      "Epoch 13, CIFAR-10 Batch 1:  Loss: 0.3533 Validation Accuracy: 0.70\n",
      "Epoch 13, CIFAR-10 Batch 2:  Loss: 0.4082 Validation Accuracy: 0.71\n",
      "Epoch 13, CIFAR-10 Batch 3:  Loss: 0.2939 Validation Accuracy: 0.71\n",
      "Epoch 13, CIFAR-10 Batch 4:  Loss: 0.2816 Validation Accuracy: 0.69\n",
      "Epoch 13, CIFAR-10 Batch 5:  Loss: 0.2933 Validation Accuracy: 0.71\n",
      "Epoch 14, CIFAR-10 Batch 1:  Loss: 0.2772 Validation Accuracy: 0.69\n",
      "Epoch 14, CIFAR-10 Batch 2:  Loss: 0.3344 Validation Accuracy: 0.70\n",
      "Epoch 14, CIFAR-10 Batch 3:  Loss: 0.2580 Validation Accuracy: 0.70\n",
      "Epoch 14, CIFAR-10 Batch 4:  Loss: 0.2338 Validation Accuracy: 0.70\n",
      "Epoch 14, CIFAR-10 Batch 5:  Loss: 0.2134 Validation Accuracy: 0.72\n",
      "Epoch 15, CIFAR-10 Batch 1:  Loss: 0.2616 Validation Accuracy: 0.68\n",
      "Epoch 15, CIFAR-10 Batch 2:  Loss: 0.3013 Validation Accuracy: 0.70\n",
      "Epoch 15, CIFAR-10 Batch 3:  Loss: 0.2375 Validation Accuracy: 0.70\n",
      "Epoch 15, CIFAR-10 Batch 4:  Loss: 0.2108 Validation Accuracy: 0.70\n",
      "Epoch 15, CIFAR-10 Batch 5:  Loss: 0.2040 Validation Accuracy: 0.71\n",
      "Epoch 16, CIFAR-10 Batch 1:  Loss: 0.2191 Validation Accuracy: 0.70\n",
      "Epoch 16, CIFAR-10 Batch 2:  Loss: 0.2522 Validation Accuracy: 0.70\n",
      "Epoch 16, CIFAR-10 Batch 3:  Loss: 0.1810 Validation Accuracy: 0.70\n",
      "Epoch 16, CIFAR-10 Batch 4:  Loss: 0.1665 Validation Accuracy: 0.70\n",
      "Epoch 16, CIFAR-10 Batch 5:  Loss: 0.1676 Validation Accuracy: 0.71\n",
      "Epoch 17, CIFAR-10 Batch 1:  Loss: 0.1766 Validation Accuracy: 0.71\n",
      "Epoch 17, CIFAR-10 Batch 2:  Loss: 0.2131 Validation Accuracy: 0.71\n",
      "Epoch 17, CIFAR-10 Batch 3:  Loss: 0.1443 Validation Accuracy: 0.70\n",
      "Epoch 17, CIFAR-10 Batch 4:  Loss: 0.1383 Validation Accuracy: 0.71\n",
      "Epoch 17, CIFAR-10 Batch 5:  Loss: 0.1602 Validation Accuracy: 0.71\n",
      "Epoch 18, CIFAR-10 Batch 1:  Loss: 0.1581 Validation Accuracy: 0.70\n",
      "Epoch 18, CIFAR-10 Batch 2:  Loss: 0.1627 Validation Accuracy: 0.72\n",
      "Epoch 18, CIFAR-10 Batch 3:  Loss: 0.1185 Validation Accuracy: 0.70\n",
      "Epoch 18, CIFAR-10 Batch 4:  Loss: 0.1226 Validation Accuracy: 0.71\n",
      "Epoch 18, CIFAR-10 Batch 5:  Loss: 0.1468 Validation Accuracy: 0.71\n",
      "Epoch 19, CIFAR-10 Batch 1:  Loss: 0.1515 Validation Accuracy: 0.71\n",
      "Epoch 19, CIFAR-10 Batch 2:  Loss: 0.1433 Validation Accuracy: 0.72\n",
      "Epoch 19, CIFAR-10 Batch 3:  Loss: 0.1011 Validation Accuracy: 0.72\n",
      "Epoch 19, CIFAR-10 Batch 4:  Loss: 0.0951 Validation Accuracy: 0.71\n",
      "Epoch 19, CIFAR-10 Batch 5:  Loss: 0.1099 Validation Accuracy: 0.72\n",
      "Epoch 20, CIFAR-10 Batch 1:  Loss: 0.1200 Validation Accuracy: 0.71\n",
      "Epoch 20, CIFAR-10 Batch 2:  Loss: 0.1199 Validation Accuracy: 0.72\n",
      "Epoch 20, CIFAR-10 Batch 3:  Loss: 0.0879 Validation Accuracy: 0.71\n",
      "Epoch 20, CIFAR-10 Batch 4:  Loss: 0.0735 Validation Accuracy: 0.72\n",
      "Epoch 20, CIFAR-10 Batch 5:  Loss: 0.1115 Validation Accuracy: 0.70\n",
      "Epoch 21, CIFAR-10 Batch 1:  Loss: 0.1086 Validation Accuracy: 0.71\n",
      "Epoch 21, CIFAR-10 Batch 2:  Loss: 0.1096 Validation Accuracy: 0.73\n",
      "Epoch 21, CIFAR-10 Batch 3:  Loss: 0.0660 Validation Accuracy: 0.73\n",
      "Epoch 21, CIFAR-10 Batch 4:  Loss: 0.0664 Validation Accuracy: 0.72\n",
      "Epoch 21, CIFAR-10 Batch 5:  Loss: 0.0849 Validation Accuracy: 0.71\n",
      "Epoch 22, CIFAR-10 Batch 1:  Loss: 0.0888 Validation Accuracy: 0.72\n",
      "Epoch 22, CIFAR-10 Batch 2:  Loss: 0.0848 Validation Accuracy: 0.72\n",
      "Epoch 22, CIFAR-10 Batch 3:  Loss: 0.0587 Validation Accuracy: 0.72\n",
      "Epoch 22, CIFAR-10 Batch 4:  Loss: 0.0632 Validation Accuracy: 0.72\n",
      "Epoch 22, CIFAR-10 Batch 5:  Loss: 0.0621 Validation Accuracy: 0.72\n",
      "Epoch 23, CIFAR-10 Batch 1:  Loss: 0.0676 Validation Accuracy: 0.72\n",
      "Epoch 23, CIFAR-10 Batch 2:  Loss: 0.0790 Validation Accuracy: 0.73\n",
      "Epoch 23, CIFAR-10 Batch 3:  Loss: 0.0615 Validation Accuracy: 0.71\n",
      "Epoch 23, CIFAR-10 Batch 4:  Loss: 0.0607 Validation Accuracy: 0.72\n",
      "Epoch 23, CIFAR-10 Batch 5:  Loss: 0.0582 Validation Accuracy: 0.72\n",
      "Epoch 24, CIFAR-10 Batch 1:  Loss: 0.0609 Validation Accuracy: 0.73\n",
      "Epoch 24, CIFAR-10 Batch 2:  Loss: 0.0622 Validation Accuracy: 0.73\n",
      "Epoch 24, CIFAR-10 Batch 3:  Loss: 0.0394 Validation Accuracy: 0.72\n",
      "Epoch 24, CIFAR-10 Batch 4:  Loss: 0.0404 Validation Accuracy: 0.71\n",
      "Epoch 24, CIFAR-10 Batch 5:  Loss: 0.0450 Validation Accuracy: 0.72\n",
      "Epoch 25, CIFAR-10 Batch 1:  Loss: 0.0658 Validation Accuracy: 0.72\n",
      "Epoch 25, CIFAR-10 Batch 2:  Loss: 0.0492 Validation Accuracy: 0.72\n",
      "Epoch 25, CIFAR-10 Batch 3:  Loss: 0.0482 Validation Accuracy: 0.71\n",
      "Epoch 25, CIFAR-10 Batch 4:  Loss: 0.0412 Validation Accuracy: 0.72\n",
      "Epoch 25, CIFAR-10 Batch 5:  Loss: 0.0519 Validation Accuracy: 0.70\n",
      "Epoch 26, CIFAR-10 Batch 1:  Loss: 0.0440 Validation Accuracy: 0.73\n",
      "Epoch 26, CIFAR-10 Batch 2:  Loss: 0.0370 Validation Accuracy: 0.72\n",
      "Epoch 26, CIFAR-10 Batch 3:  Loss: 0.0377 Validation Accuracy: 0.71\n",
      "Epoch 26, CIFAR-10 Batch 4:  Loss: 0.0474 Validation Accuracy: 0.72\n",
      "Epoch 26, CIFAR-10 Batch 5:  Loss: 0.0419 Validation Accuracy: 0.71\n",
      "Epoch 27, CIFAR-10 Batch 1:  Loss: 0.0468 Validation Accuracy: 0.73\n",
      "Epoch 27, CIFAR-10 Batch 2:  Loss: 0.0334 Validation Accuracy: 0.72\n",
      "Epoch 27, CIFAR-10 Batch 3:  Loss: 0.0344 Validation Accuracy: 0.71\n",
      "Epoch 27, CIFAR-10 Batch 4:  Loss: 0.0304 Validation Accuracy: 0.72\n",
      "Epoch 27, CIFAR-10 Batch 5:  Loss: 0.0276 Validation Accuracy: 0.73\n",
      "Epoch 28, CIFAR-10 Batch 1:  Loss: 0.0372 Validation Accuracy: 0.73\n",
      "Epoch 28, CIFAR-10 Batch 2:  Loss: 0.0222 Validation Accuracy: 0.73\n",
      "Epoch 28, CIFAR-10 Batch 3:  Loss: 0.0237 Validation Accuracy: 0.72\n",
      "Epoch 28, CIFAR-10 Batch 4:  Loss: 0.0277 Validation Accuracy: 0.72\n",
      "Epoch 28, CIFAR-10 Batch 5:  Loss: 0.0288 Validation Accuracy: 0.72\n",
      "Epoch 29, CIFAR-10 Batch 1:  Loss: 0.0310 Validation Accuracy: 0.72\n",
      "Epoch 29, CIFAR-10 Batch 2:  Loss: 0.0314 Validation Accuracy: 0.72\n",
      "Epoch 29, CIFAR-10 Batch 3:  Loss: 0.0209 Validation Accuracy: 0.72\n",
      "Epoch 29, CIFAR-10 Batch 4:  Loss: 0.0312 Validation Accuracy: 0.72\n",
      "Epoch 29, CIFAR-10 Batch 5:  Loss: 0.0161 Validation Accuracy: 0.73\n",
      "Epoch 30, CIFAR-10 Batch 1:  Loss: 0.0303 Validation Accuracy: 0.72\n",
      "Epoch 30, CIFAR-10 Batch 2:  Loss: 0.0314 Validation Accuracy: 0.71\n",
      "Epoch 30, CIFAR-10 Batch 3:  Loss: 0.0145 Validation Accuracy: 0.73\n",
      "Epoch 30, CIFAR-10 Batch 4:  Loss: 0.0266 Validation Accuracy: 0.72\n",
      "Epoch 30, CIFAR-10 Batch 5:  Loss: 0.0182 Validation Accuracy: 0.72\n"
     ]
    }
   ],
   "source": [
    "\"\"\"\n",
    "DON'T MODIFY ANYTHING IN THIS CELL\n",
    "\"\"\"\n",
    "save_model_path = './image_classification'\n",
    "\n",
    "print('Training...')\n",
    "with tf.Session() as sess:\n",
    "    # Initializing the variables\n",
    "    sess.run(tf.global_variables_initializer())\n",
    "    \n",
    "    # Training cycle\n",
    "    for epoch in range(epochs):\n",
    "        # Loop over all batches\n",
    "        n_batches = 5\n",
    "        for batch_i in range(1, n_batches + 1):\n",
    "            for batch_features, batch_labels in helper.load_preprocess_training_batch(batch_i, batch_size):\n",
    "                train_neural_network(sess, optimizer, keep_probability, batch_features, batch_labels)\n",
    "            print('Epoch {:>2}, CIFAR-10 Batch {}:  '.format(epoch + 1, batch_i), end='')\n",
    "            print_stats(sess, batch_features, batch_labels, cost, accuracy)\n",
    "            \n",
    "    # Save Model\n",
    "    saver = tf.train.Saver()\n",
    "    save_path = saver.save(sess, save_model_path)"
   ]
  },
  {
   "cell_type": "markdown",
   "metadata": {
    "colab_type": "text",
    "id": "6izZeCOX2kMP"
   },
   "source": [
    "# Checkpoint\n",
    "The model has been saved to disk.\n",
    "## Test Model\n",
    "Test your model against the test dataset.  This will be your final accuracy. You should have an accuracy greater than 50%. If you don't, keep tweaking the model architecture and parameters."
   ]
  },
  {
   "cell_type": "code",
   "execution_count": 58,
   "metadata": {
    "colab": {
     "base_uri": "https://localhost:8080/",
     "height": 388
    },
    "colab_type": "code",
    "id": "ueeYhlan2kMQ",
    "outputId": "d2cdc46a-ba55-4b75-b08a-47a0c87b1e3e"
   },
   "outputs": [
    {
     "name": "stdout",
     "output_type": "stream",
     "text": [
      "INFO:tensorflow:Restoring parameters from ./image_classification\n",
      "Testing Accuracy: 0.7100356161594391\n",
      "\n"
     ]
    },
    {
     "data": {
      "image/png": "[encoded data removed]",
      "text/plain": [
       "<matplotlib.figure.Figure at 0x7feb6e3ec4e0>"
      ]
     },
     "metadata": {
      "image/png": {
       "height": 319,
       "width": 354
      },
      "tags": []
     },
     "output_type": "display_data"
    }
   ],
   "source": [
    "\"\"\"\n",
    "DON'T MODIFY ANYTHING IN THIS CELL\n",
    "\"\"\"\n",
    "%matplotlib inline\n",
    "%config InlineBackend.figure_format = 'retina'\n",
    "\n",
    "import tensorflow as tf\n",
    "import pickle\n",
    "import helper\n",
    "import random\n",
    "\n",
    "# Set batch size if not already set\n",
    "try:\n",
    "    if batch_size:\n",
    "        pass\n",
    "except NameError:\n",
    "    batch_size = 64\n",
    "\n",
    "save_model_path = './image_classification'\n",
    "n_samples = 4\n",
    "top_n_predictions = 3\n",
    "\n",
    "def test_model():\n",
    "    \"\"\"\n",
    "    Test the saved model against the test dataset\n",
    "    \"\"\"\n",
    "\n",
    "    test_features, test_labels = pickle.load(open('preprocess_training.p', mode='rb'))\n",
    "    loaded_graph = tf.Graph()\n",
    "\n",
    "    with tf.Session(graph=loaded_graph) as sess:\n",
    "        # Load model\n",
    "        loader = tf.train.import_meta_graph(save_model_path + '.meta')\n",
    "        loader.restore(sess, save_model_path)\n",
    "\n",
    "        # Get Tensors from loaded model\n",
    "        loaded_x = loaded_graph.get_tensor_by_name('x:0')\n",
    "        loaded_y = loaded_graph.get_tensor_by_name('y:0')\n",
    "        loaded_keep_prob = loaded_graph.get_tensor_by_name('keep_prob:0')\n",
    "        loaded_logits = loaded_graph.get_tensor_by_name('logits:0')\n",
    "        loaded_acc = loaded_graph.get_tensor_by_name('accuracy:0')\n",
    "        \n",
    "        # Get accuracy in batches for memory limitations\n",
    "        test_batch_acc_total = 0\n",
    "        test_batch_count = 0\n",
    "        \n",
    "        for train_feature_batch, train_label_batch in helper.batch_features_labels(test_features, test_labels, batch_size):\n",
    "            test_batch_acc_total += sess.run(\n",
    "                loaded_acc,\n",
    "                feed_dict={loaded_x: train_feature_batch, loaded_y: train_label_batch, loaded_keep_prob: 1.0})\n",
    "            test_batch_count += 1\n",
    "\n",
    "        print('Testing Accuracy: {}\\n'.format(test_batch_acc_total/test_batch_count))\n",
    "\n",
    "        # Print Random Samples\n",
    "        random_test_features, random_test_labels = tuple(zip(*random.sample(list(zip(test_features, test_labels)), n_samples)))\n",
    "        random_test_predictions = sess.run(\n",
    "            tf.nn.top_k(tf.nn.softmax(loaded_logits), top_n_predictions),\n",
    "            feed_dict={loaded_x: random_test_features, loaded_y: random_test_labels, loaded_keep_prob: 1.0})\n",
    "        helper.display_image_predictions(random_test_features, random_test_labels, random_test_predictions)\n",
    "\n",
    "\n",
    "test_model()"
   ]
  },
  {
   "cell_type": "markdown",
   "metadata": {
    "colab_type": "text",
    "id": "lvy6gOWP2kMS"
   },
   "source": [
    "## Why 50-80% Accuracy?\n",
    "You might be wondering why you can't get an accuracy any higher. First things first, 50% isn't bad for a simple CNN.  Pure guessing would get you 10% accuracy. That's because there are many more techniques that can be applied to your model and we recemmond that once you are done with this project, you explore!\n",
    "\n",
    "## Submitting This Project\n",
    "When submitting this project, make sure to run all the cells before saving the notebook.  Save the notebook file as \"image_classification.ipynb\" and save it as a HTML file under \"File\" -> \"Download as\".  Include the \"helper.py\" and \"problem_unittests.py\" files in your submission."
   ]
  }
 ],
 "metadata": {
  "accelerator": "GPU",
  "colab": {
   "collapsed_sections": [],
   "name": "Copy of image_classification.ipynb",
   "provenance": [],
   "toc_visible": true,
   "version": "0.3.2"
  },
  "kernelspec": {
   "display_name": "Python 3",
   "language": "python",
   "name": "python3"
  },
  "language_info": {
   "codemirror_mode": {
    "name": "ipython",
    "version": 3
   },
   "file_extension": ".py",
   "mimetype": "text/x-python",
   "name": "python",
   "nbconvert_exporter": "python",
   "pygments_lexer": "ipython3",
   "version": "3.6.5"
  }
 },
 "nbformat": 4,
 "nbformat_minor": 1
}
